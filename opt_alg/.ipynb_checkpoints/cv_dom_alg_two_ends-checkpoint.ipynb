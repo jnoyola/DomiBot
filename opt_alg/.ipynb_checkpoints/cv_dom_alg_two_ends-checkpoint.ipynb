{
 "cells": [
  {
   "cell_type": "code",
   "execution_count": 1,
   "metadata": {
    "collapsed": true
   },
   "outputs": [],
   "source": [
    "import numpy as np"
   ]
  },
  {
   "cell_type": "code",
   "execution_count": 2,
   "metadata": {
    "collapsed": true
   },
   "outputs": [],
   "source": [
    "cv_data = [[(3, (431, 197), 0.51914611424652302), (5, (386, 219), -2.7367008673047097)], [(4, (607, 173), 1.3986055122719576), (0, (595, 223), -1.7942729279355296)], [(0, (283, 178), 0.75837771421018374), (6, (246, 213), -2.4116929954380617)], [(6, (491, 146), 1.4909663410826592), (6, (487, 196), -1.7429871413178355)], [(4, (370, 153), -0.41012734054149091), (3, (324, 133), -3.5363837732895549)], [(2, (288, 90), 1.5707963267948966), (4, (286, 142), -1.6614562139956417)], [(6, (478, 110), -0.4461055489434036), (4, (432, 90), -3.5713549326864817)], [(3, (557, 60), 1.5707963267948966), (2, (553, 113), -1.6575346654708816)], [(2, (395, 88), -0.81396182123620819), (0, (362, 49), -3.9572845769060168)]]"
   ]
  },
  {
   "cell_type": "code",
   "execution_count": 250,
   "metadata": {
    "collapsed": false
   },
   "outputs": [],
   "source": [
    "def next_piece(A,end_train1,end_train2):\n",
    "    n = np.size(A,1);   # determine size of A\n",
    "    init_choice = A[:,end_train1] + np.transpose(A[end_train1,:]);  # Find playable pieces\n",
    "    if np.sum(init_choice) == 0:\n",
    "        V1 = 0;\n",
    "    else :\n",
    "        init_choice[end_train1] -= A[end_train1,end_train1];\n",
    "        m = np.max(init_choice);\n",
    "        poss_ind = np.where(init_choice);\n",
    "        poss_pick_up = (np.sum(np.transpose(A),1)) + np.sum(A,1) - np.asmatrix(np.diag(A));\n",
    "        V1 = np.max(poss_pick_up);\n",
    "        pick_up[0] = np.argmax(poss_pick_up);\n",
    "\n",
    "    n = np.size(A,1);   # determine size of A\n",
    "    init_choice = A[:,end_train2] + np.transpose(A[end_train2,:]);  # Find playable pieces\n",
    "    if np.sum(init_choice) == 0:\n",
    "        V1 = 0;\n",
    "    else :\n",
    "        init_choice[end_train2] -= A[end_train2,end_train2];\n",
    "        m = np.max(init_choice);\n",
    "        poss_ind = np.where(init_choice);\n",
    "        poss_pick_up = (np.sum(np.transpose(A),1)) + np.sum(A,1) - np.asmatrix(np.diag(A));\n",
    "        V2 = np.max(poss_pick_up);\n",
    "        pick_up[1] = np.argmax(poss_pick_up);\n",
    "\n",
    "\n",
    "    V_ends = [(V1, V2)];\n",
    "    which_end = np.argmax(V_ends);\n",
    "    choice = pick_up[which_end];\n",
    "    domino_choice = [end_train2,int(choice)];\n",
    "    \n",
    "    \n",
    "    return [end_train2,int(choice)]"
   ]
  },
  {
   "cell_type": "code",
   "execution_count": null,
   "metadata": {
    "collapsed": true
   },
   "outputs": [],
   "source": [
    "# [ [ (pips, (x, y), ori), (pips, (x, y), ori) ], # 1st\n",
    "# [ (pips, (x, y), ori), (pips, (x, y), ori) ], # 2nd]\n",
    "# orientation: angle the outward pointing vector makes\n",
    "# position: ends of the dominos\n",
    "# need: position of domino and desired orientation."
   ]
  },
  {
   "cell_type": "code",
   "execution_count": 256,
   "metadata": {
    "collapsed": false
   },
   "outputs": [
    {
     "name": "stderr",
     "output_type": "stream",
     "text": [
      "/Users/Karen/anaconda/lib/python2.7/site-packages/ipykernel/__main__.py:12: DeprecationWarning: using a non-integer number instead of an integer will result in an error in the future\n"
     ]
    }
   ],
   "source": [
    "# constructing A\n",
    "n = 7;\n",
    "A = np.zeros((n,n));\n",
    "num_dominoes = len(cv_data);\n",
    "dom = np.zeros((num_dominoes,2));\n",
    "dom_sort = np.zeros((num_dominoes,2));\n",
    "dom_perm = np.zeros((num_dominoes,2));\n",
    "for i in range(0,num_dominoes):\n",
    "    dom[i,:] = cv_data[i][0][0],cv_data[i][1][0];\n",
    "    dom_sort[i,:] = sorted(dom[i,:]);\n",
    "    dom_perm[i,:] = np.argsort(dom[i,:]);\n",
    "    A[dom_sort[i,0],dom_sort[i,1]] = 1;\n",
    "    \n",
    "dom = dom.astype(int);\n",
    "dom_sort = dom_sort.astype(int);\n",
    "dom_perm = dom_perm.astype(int);\n",
    "\n",
    "\n"
   ]
  },
  {
   "cell_type": "code",
   "execution_count": 275,
   "metadata": {
    "collapsed": false
   },
   "outputs": [
    {
     "name": "stdout",
     "output_type": "stream",
     "text": [
      "[4, 6]\n"
     ]
    },
    {
     "data": {
      "text/plain": [
       "list"
      ]
     },
     "execution_count": 275,
     "metadata": {},
     "output_type": "execute_result"
    }
   ],
   "source": [
    "piece_to_play = next_piece(A,5,6)\n",
    "to_be_matched = sorted(piece_to_play);\n",
    "print(to_be_matched)\n",
    "type(piece_to_play)\n"
   ]
  },
  {
   "cell_type": "code",
   "execution_count": 277,
   "metadata": {
    "collapsed": false
   },
   "outputs": [
    {
     "data": {
      "text/plain": [
       "numpy.ndarray"
      ]
     },
     "execution_count": 277,
     "metadata": {},
     "output_type": "execute_result"
    }
   ],
   "source": [
    "type(dom_sort[0,:])"
   ]
  },
  {
   "cell_type": "code",
   "execution_count": 278,
   "metadata": {
    "collapsed": false
   },
   "outputs": [
    {
     "data": {
      "text/plain": [
       "tuple"
      ]
     },
     "execution_count": 278,
     "metadata": {},
     "output_type": "execute_result"
    }
   ],
   "source": [
    "match1 = np.where(dom_sort[:,0] == to_be_matched[0]);\n",
    "match2 = np.where(dom_sort[:,1]== to_be_matched[1]);\n",
    "type(match1)\n",
    "\n"
   ]
  },
  {
   "cell_type": "code",
   "execution_count": 279,
   "metadata": {
    "collapsed": false
   },
   "outputs": [
    {
     "data": {
      "text/plain": [
       "array([[4, 6]])"
      ]
     },
     "execution_count": 279,
     "metadata": {},
     "output_type": "execute_result"
    }
   ],
   "source": [
    "dom_sort[match1]"
   ]
  },
  {
   "cell_type": "code",
   "execution_count": 271,
   "metadata": {
    "collapsed": false
   },
   "outputs": [
    {
     "name": "stdout",
     "output_type": "stream",
     "text": [
      "[1, 3, 5, 6]\n"
     ]
    }
   ],
   "source": [
    "a = [1,2,3,4,5]\n",
    "b = [1,3,5,6]\n",
    "c = a and b\n",
    "print c"
   ]
  },
  {
   "cell_type": "code",
   "execution_count": 206,
   "metadata": {
    "collapsed": false
   },
   "outputs": [
    {
     "name": "stdout",
     "output_type": "stream",
     "text": [
      "[3, 4]\n"
     ]
    }
   ],
   "source": [
    "end_train1 = 1;\n",
    "n = np.size(A,1);   # determine size of A\n",
    "init_choice = A[:,end_train1] + np.transpose(A[end_train1,:]);  # Find playable pieces\n",
    "if np.sum(init_choice) == 0:\n",
    "    V1 = 0;\n",
    "#     print(\"no possible move this end\")\n",
    "else :\n",
    "    init_choice[end_train1] -= A[end_train1,end_train1];\n",
    "    m = np.max(init_choice);\n",
    "    poss_ind = np.where(init_choice);\n",
    "    poss_pick_up = (np.sum(np.transpose(A),1)) + np.sum(A,1) - np.asmatrix(np.diag(A));\n",
    "    V1 = np.max(poss_pick_up);\n",
    "    pick_up[0] = np.argmax(poss_pick_up);\n",
    "    \n",
    "end_train2 = 3;\n",
    "n = np.size(A,1);   # determine size of A\n",
    "init_choice = A[:,end_train2] + np.transpose(A[end_train2,:]);  # Find playable pieces\n",
    "if np.sum(init_choice) == 0:\n",
    "    V1 = 0;\n",
    "    print(\"no possible move this end\")\n",
    "else :\n",
    "    init_choice[end_train2] -= A[end_train2,end_train2];\n",
    "    m = np.max(init_choice);\n",
    "    poss_ind = np.where(init_choice);\n",
    "    poss_pick_up = (np.sum(np.transpose(A),1)) + np.sum(A,1) - np.asmatrix(np.diag(A));\n",
    "    V2 = np.max(poss_pick_up);\n",
    "    pick_up[1] = np.argmax(poss_pick_up);\n",
    "\n",
    "\n",
    "V_ends = [(V1, V2)];\n",
    "which_end = np.argmax(V_ends);\n",
    "choice = pick_up[which_end];\n",
    "print([end_train2,int(choice)])"
   ]
  }
 ],
 "metadata": {
  "kernelspec": {
   "display_name": "Python 2",
   "language": "python",
   "name": "python2"
  },
  "language_info": {
   "codemirror_mode": {
    "name": "ipython",
    "version": 2
   },
   "file_extension": ".py",
   "mimetype": "text/x-python",
   "name": "python",
   "nbconvert_exporter": "python",
   "pygments_lexer": "ipython2",
   "version": "2.7.10"
  }
 },
 "nbformat": 4,
 "nbformat_minor": 0
}
