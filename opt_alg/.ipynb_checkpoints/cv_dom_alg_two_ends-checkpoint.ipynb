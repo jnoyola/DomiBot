{
 "cells": [
  {
   "cell_type": "code",
   "execution_count": 1,
   "metadata": {
    "collapsed": true
   },
   "outputs": [],
   "source": [
    "cv_data = [[(3, (431, 197), 0.51914611424652302), (5, (386, 219), -2.7367008673047097)], [(4, (607, 173), 1.3986055122719576), (0, (595, 223), -1.7942729279355296)], [(0, (283, 178), 0.75837771421018374), (6, (246, 213), -2.4116929954380617)], [(6, (491, 146), 1.4909663410826592), (6, (487, 196), -1.7429871413178355)], [(4, (370, 153), -0.41012734054149091), (3, (324, 133), -3.5363837732895549)], [(2, (288, 90), 1.5707963267948966), (4, (286, 142), -1.6614562139956417)], [(6, (478, 110), -0.4461055489434036), (4, (432, 90), -3.5713549326864817)], [(3, (557, 60), 1.5707963267948966), (2, (553, 113), -1.6575346654708816)], [(2, (395, 88), -0.81396182123620819), (0, (362, 49), -3.9572845769060168)]]"
   ]
  },
  {
   "cell_type": "code",
   "execution_count": null,
   "metadata": {
    "collapsed": false
   },
   "outputs": [],
   "source": [
    "# constructing A\n",
    "n = 7  # numbers range from 0 to 6\n",
    "A = np.zeros((n,n))   # size of A matrix\n",
    "num_dominoes = len(cv_data)   # number of dominoes\n",
    "dom = list()   # extracting CV domino data\n",
    "dom_sort = list()   # sort them so the smaller number is the first column\n",
    "dom_perm = list()   # permutation: if there was a swapping or not\n",
    "\n",
    "for i in range(0,num_dominoes):          # sorting out the dominoes and constructing A\n",
    "    dom.append([cv_data[i][0][0],cv_data[i][1][0]])\n",
    "    dom_sort.append(sorted(dom[i]));\n",
    "    dom_perm.append(sorted(range(len(dom[i])), key=lambda k: dom[i][k]))\n",
    "    A[dom_sort[i][0],dom_sort[i][1]] = 1;\n",
    "\n",
    "A = A.astype(int)\n",
    "A"
   ]
  },
  {
   "cell_type": "code",
   "execution_count": null,
   "metadata": {
    "collapsed": false
   },
   "outputs": [],
   "source": [
    "# function that determines the next piece.\n",
    "# end_train1 and end_train2 is the ends of the train.\n",
    "def next_piece(A,cv_ends):\n",
    "    end_train1 = cv_ends[0][0];   # renaming the train ends\n",
    "    end_train2 = cv_ends[1][0];\n",
    "    n = np.size(A,1);   # determine size of A\n",
    "    AA = np.transpose(A)  # need a transpose for calculations\n",
    "    poss_dom_to_pick_up = list()  # possible domino to pick for each end\n",
    "\n",
    "    init_choice = A[:,end_train1] + np.transpose(A[end_train1,:]);  # Find playable pieces for end 1\n",
    "\n",
    "    if np.sum(init_choice) == 0:  # if no playable piece make is available, it is not an option\n",
    "        V1 = 0;\n",
    "        poss_dom_to_pick_up.append(0)\n",
    "    else :\n",
    "        init_choice[end_train1] -= A[end_train1,end_train1];  # undo double counting of diagonals\n",
    "        poss_ind = list()  # index of possible playable list for end 1\n",
    "        poss_pick_up = list() # value of possible playable dominoes for end 1\n",
    "\n",
    "        for i in range(0,n):\n",
    "            if init_choice[i] == 1:  # if it is a playable piece then...\n",
    "                poss_ind.append(i)  # add the index to poss_ind\n",
    "                poss_pick_up.append(int(sum(list(A[i,:])) + sum(list(A[:,i])) - A[i,i]))  # calculate value of possible piece\n",
    "        (V1,ind_pick_up) = max((v,i) for i,v in enumerate(poss_pick_up)) # find the maximum value and its index\n",
    "        poss_dom_to_pick_up.append([end_train1,poss_ind[ind_pick_up]]) # best candidate for end 1\n",
    "\n",
    "\n",
    "    init_choice = A[:,end_train2] + np.transpose(A[end_train2,:]);  # Find playable pieces for end 2\n",
    "\n",
    "    if np.sum(init_choice) == 0: # if no playable piece make is available, it is not an option\n",
    "        V2 = 0;\n",
    "        poss_dom_to_pick_up.append(0)\n",
    "    else :\n",
    "        init_choice[end_train2] -= A[end_train2,end_train2];  # undo double counting of diagonals\n",
    "        poss_ind = list()  # index of possible playable list for end 1\n",
    "        poss_pick_up = list()  # value of possible playable dominoes for end 1\n",
    "        \n",
    "        for i in range(0,n):\n",
    "            if init_choice[i] == 1:  # if it is a playable piece then...\n",
    "                poss_ind.append(i)  # add the index to poss_ind\n",
    "                poss_pick_up.append(int(sum(list(A[i,:])) + sum(list(A[:,i])) - A[i,i]))  # calculate value of possible piece\n",
    "        (V2,ind_pick_up) = max((v,i) for i,v in enumerate(poss_pick_up))  # find the maximum value and its index\n",
    "        poss_dom_to_pick_up.append([end_train2,poss_ind[ind_pick_up]])  # best candidate for end 2\n",
    "\n",
    "    V_ends = [V1, V2];\n",
    "    (V,which_end) = max((v,i) for i,v in enumerate(V_ends))\n",
    "    choice = poss_dom_to_pick_up[which_end];\n",
    "    \n",
    "    return choice, which_end"
   ]
  },
  {
   "cell_type": "code",
   "execution_count": null,
   "metadata": {
    "collapsed": false
   },
   "outputs": [],
   "source": [
    "# [ [ (pips, (x, y), ori), (pips, (x, y), ori) ], # 1st\n",
    "# [ (pips, (x, y), ori), (pips, (x, y), ori) ], # 2nd]\n",
    "# orientation: angle the outward pointing vector makes\n",
    "# position: ends of the dominos\n",
    "# need: position of domino and desired orientation.\n",
    "train_ends = [(1, (431, 197), 0.51914611424652302), (3, (386, 219), -2.7367008673047097)]\n"
   ]
  },
  {
   "cell_type": "code",
   "execution_count": null,
   "metadata": {
    "collapsed": false
   },
   "outputs": [],
   "source": [
    "piece_to_play,ind_end_to_play = next_piece(A,train_ends);\n",
    "print(piece_to_play,ind_end_to_play)\n",
    "to_be_matched = sorted(piece_to_play);\n",
    "end_to_play = p[ind_end_to_play][0];"
   ]
  },
  {
   "cell_type": "code",
   "execution_count": null,
   "metadata": {
    "collapsed": false
   },
   "outputs": [],
   "source": [
    "# finding which index the desired domino is in from the list\n",
    "for i in range(0,num_dominoes):\n",
    "    if to_be_matched == dom_sort[i]:\n",
    "        ind_desired_dom = i\n",
    "        \n",
    "target_dom = dom[ind_desired_dom]\n"
   ]
  },
  {
   "cell_type": "code",
   "execution_count": null,
   "metadata": {
    "collapsed": false
   },
   "outputs": [],
   "source": [
    "if target_dom[0] == end_to_play:\n",
    "    ind_contact_end = 0\n",
    "    ind_next_play_end = 1\n",
    "else:\n",
    "    ind_contact_end = 1\n",
    "    ind_next_play_end = 0"
   ]
  },
  {
   "cell_type": "code",
   "execution_count": null,
   "metadata": {
    "collapsed": false
   },
   "outputs": [],
   "source": [
    "pickup_desired_orientation = cv_data[ind_desired_dom][ind_next_play_end][2]\n",
    "x_desired = float(cv_data[ind_desired_dom][ind_next_play_end][1][0] + cv_data[ind_desired_dom][ind_contact_end][1][0])/2.0\n",
    "y_desired = float(cv_data[ind_desired_dom][ind_next_play_end][1][1] + cv_data[ind_desired_dom][ind_contact_end][1][1])/2.0\n",
    "pickup_desired_position = [x_desired, y_desired]\n",
    "\n",
    "target_pick_up = [pickup_desired_position, pickup_desired_orientation]\n",
    "print(target_pick_up)\n",
    "\n",
    "putdown_desired_orientation = train_ends[ind_end_to_play][2]\n",
    "x_desired = train_ends[ind_end_to_play][1][0]\n",
    "y_desired = train_ends[ind_end_to_play][1][1]\n",
    "putdown_desired_position = [x_desired, y_desired]\n",
    "target_put_down = [putdown_desired_position, putdown_desired_orientation]\n",
    "print(target_put_down)"
   ]
  },
  {
   "cell_type": "code",
   "execution_count": null,
   "metadata": {
    "collapsed": true
   },
   "outputs": [],
   "source": []
  },
  {
   "cell_type": "code",
   "execution_count": 18,
   "metadata": {
    "collapsed": false
   },
   "outputs": [],
   "source": [
    "def desired_targets(cv_data,cv_ends,n,offset):\n",
    "\n",
    "    # constructing A and sorting through dominos\n",
    "\n",
    "    A = np.zeros((n,n))   # size of A matrix\n",
    "    num_dominoes = len(cv_data)   # number of dominoes\n",
    "    dom = list()   # extracting CV domino data\n",
    "    dom_sort = list()   # sort them so the smaller number is the first column\n",
    "    dom_perm = list()   # permutation: if there was a swapping or not\n",
    "\n",
    "    for i in range(0,num_dominoes):          # sorting out the dominoes and constructing A\n",
    "        dom.append([cv_data[i][0][0],cv_data[i][1][0]])\n",
    "        dom_sort.append(sorted(dom[i]));\n",
    "        dom_perm.append(sorted(range(len(dom[i])), key=lambda k: dom[i][k]))\n",
    "        A[dom_sort[i][0],dom_sort[i][1]] = 1;\n",
    "\n",
    "    A = A.astype(int)\n",
    "    \n",
    "    \n",
    "    # choosing a piece to play\n",
    "    \n",
    "    end_train1 = cv_ends[0][0];   # renaming the train ends\n",
    "    end_train2 = cv_ends[1][0];\n",
    "    n = np.size(A,1);   # determine size of A\n",
    "    AA = np.transpose(A)  # need a transpose for calculations\n",
    "    poss_dom_to_pick_up = list()  # possible domino to pick for each end\n",
    "\n",
    "    init_choice = A[:,end_train1] + np.transpose(A[end_train1,:]);  # Find playable pieces for end 1\n",
    "\n",
    "    if np.sum(init_choice) == 0:  # if no playable piece make is available, it is not an option\n",
    "        V1 = 0;\n",
    "        poss_dom_to_pick_up.append(0)\n",
    "    else :\n",
    "        init_choice[end_train1] -= A[end_train1,end_train1];  # undo double counting of diagonals\n",
    "        poss_ind = list()  # index of possible playable list for end 1\n",
    "        poss_pick_up = list() # value of possible playable dominoes for end 1\n",
    "\n",
    "        for i in range(0,n):\n",
    "            if init_choice[i] == 1:  # if it is a playable piece then...\n",
    "                poss_ind.append(i)  # add the index to poss_ind\n",
    "                poss_pick_up.append(int(sum(list(A[i,:])) + sum(list(A[:,i])) - A[i,i]))  # calculate value of possible piece\n",
    "        (V1,ind_pick_up) = max((v,i) for i,v in enumerate(poss_pick_up)) # find the maximum value and its index\n",
    "        poss_dom_to_pick_up.append([end_train1,poss_ind[ind_pick_up]]) # best candidate for end 1\n",
    "\n",
    "\n",
    "    init_choice = A[:,end_train2] + np.transpose(A[end_train2,:]);  # Find playable pieces for end 2\n",
    "\n",
    "    if np.sum(init_choice) == 0: # if no playable piece make is available, it is not an option\n",
    "        V2 = 0;\n",
    "        poss_dom_to_pick_up.append(0)\n",
    "    else :\n",
    "        init_choice[end_train2] -= A[end_train2,end_train2];  # undo double counting of diagonals\n",
    "        poss_ind = list()  # index of possible playable list for end 1\n",
    "        poss_pick_up = list()  # value of possible playable dominoes for end 1\n",
    "        \n",
    "        for i in range(0,n):\n",
    "            if init_choice[i] == 1:  # if it is a playable piece then...\n",
    "                poss_ind.append(i)  # add the index to poss_ind\n",
    "                poss_pick_up.append(int(sum(list(A[i,:])) + sum(list(A[:,i])) - A[i,i]))  # calculate value of possible piece\n",
    "        (V2,ind_pick_up) = max((v,i) for i,v in enumerate(poss_pick_up))  # find the maximum value and its index\n",
    "        poss_dom_to_pick_up.append([end_train2,poss_ind[ind_pick_up]])  # best candidate for end 2\n",
    "\n",
    "    V_ends = [V1, V2]; # value of end 1 and end 2\n",
    "    (V,ind_end_to_play) = max((v,i) for i,v in enumerate(V_ends)) # pick end with greater value\n",
    "    piece_to_play = poss_dom_to_pick_up[ind_end_to_play]; # pick the domino from the possible list with the greater value\n",
    "    \n",
    "    \n",
    "    # convert to right format to match with cv_data_sorted\n",
    "    to_be_matched = sorted(piece_to_play);\n",
    "    end_to_play = cv_ends[ind_end_to_play][0];\n",
    "    \n",
    "    # finding which index the desired domino is in from the list\n",
    "    for i in range(0,num_dominoes):\n",
    "        if to_be_matched == dom_sort[i]:\n",
    "            ind_desired_dom = i\n",
    "    # find out if the domino was permuted\n",
    "    target_dom = dom[ind_desired_dom]\n",
    "    if target_dom[0] == end_to_play:\n",
    "        ind_contact_end = 0\n",
    "        ind_next_play_end = 1\n",
    "    else:\n",
    "        ind_contact_end = 1\n",
    "        ind_next_play_end = 0\n",
    "    # extracting desired orientation and position\n",
    "    # pick up\n",
    "    pickup_desired_orientation = cv_data[ind_desired_dom][ind_next_play_end][2]\n",
    "    x_desired = float(cv_data[ind_desired_dom][ind_next_play_end][1][0] + cv_data[ind_desired_dom][ind_contact_end][1][0])/2.0\n",
    "    y_desired = float(cv_data[ind_desired_dom][ind_next_play_end][1][1] + cv_data[ind_desired_dom][ind_contact_end][1][1])/2.0\n",
    "    pickup_desired_position = [x_desired, y_desired]\n",
    "    target_pick_up = [pickup_desired_position, pickup_desired_orientation]\n",
    "    \n",
    "    # put down\n",
    "    putdown_desired_orientation = cv_ends[ind_end_to_play][2]\n",
    "    x_desired = cv_ends[ind_end_to_play][1][0] + offset[0]\n",
    "    y_desired = cv_ends[ind_end_to_play][1][1] + offset[1]\n",
    "    putdown_desired_position = [x_desired, y_desired]\n",
    "    target_put_down = [putdown_desired_position, putdown_desired_orientation]\n",
    "    \n",
    "    \n",
    "    \n",
    "    return [[piece_to_play[dom_perm[ind_desired_dom][0]],piece_to_play[dom_perm[ind_desired_dom][1]]], target_pick_up, target_put_down]"
   ]
  },
  {
   "cell_type": "code",
   "execution_count": 20,
   "metadata": {
    "collapsed": false
   },
   "outputs": [
    {
     "data": {
      "text/plain": [
       "[[4, 0],\n",
       " [[601.0, 198.0], 1.3986055122719576],\n",
       " [[431.1, 197], 0.519146114246523]]"
      ]
     },
     "execution_count": 20,
     "metadata": {},
     "output_type": "execute_result"
    }
   ],
   "source": [
    "import numpy as np\n",
    "cv_data = [[(3, (431, 197), 0.51914611424652302), (5, (386, 219), -2.7367008673047097)], [(4, (607, 173), 1.3986055122719576), (0, (595, 223), -1.7942729279355296)], [(0, (283, 178), 0.75837771421018374), (6, (246, 213), -2.4116929954380617)], [(6, (491, 146), 1.4909663410826592), (6, (487, 196), -1.7429871413178355)], [(4, (370, 153), -0.41012734054149091), (3, (324, 133), -3.5363837732895549)], [(2, (288, 90), 1.5707963267948966), (4, (286, 142), -1.6614562139956417)], [(6, (478, 110), -0.4461055489434036), (4, (432, 90), -3.5713549326864817)], [(3, (557, 60), 1.5707963267948966), (2, (553, 113), -1.6575346654708816)], [(2, (395, 88), -0.81396182123620819), (0, (362, 49), -3.9572845769060168)]]\n",
    "cv_ends = [(0, (431, 197), 0.51914611424652302), (5, (386, 219), -2.7367008673047097)]\n",
    "desired_targets(cv_data,cv_ends,7,[0.1,0,1])"
   ]
  },
  {
   "cell_type": "code",
   "execution_count": 21,
   "metadata": {
    "collapsed": false
   },
   "outputs": [
    {
     "data": {
      "text/plain": [
       "[[(3, (431, 197), 0.519146114246523), (5, (386, 219), -2.7367008673047097)],\n",
       " [(4, (607, 173), 1.3986055122719576), (0, (595, 223), -1.7942729279355296)],\n",
       " [(0, (283, 178), 0.7583777142101837), (6, (246, 213), -2.4116929954380617)],\n",
       " [(6, (491, 146), 1.4909663410826592), (6, (487, 196), -1.7429871413178355)],\n",
       " [(4, (370, 153), -0.4101273405414909), (3, (324, 133), -3.536383773289555)],\n",
       " [(2, (288, 90), 1.5707963267948966), (4, (286, 142), -1.6614562139956417)],\n",
       " [(6, (478, 110), -0.4461055489434036), (4, (432, 90), -3.5713549326864817)],\n",
       " [(3, (557, 60), 1.5707963267948966), (2, (553, 113), -1.6575346654708816)],\n",
       " [(2, (395, 88), -0.8139618212362082), (0, (362, 49), -3.9572845769060168)]]"
      ]
     },
     "execution_count": 21,
     "metadata": {},
     "output_type": "execute_result"
    }
   ],
   "source": [
    "cv_data"
   ]
  },
  {
   "cell_type": "code",
   "execution_count": null,
   "metadata": {
    "collapsed": true
   },
   "outputs": [],
   "source": []
  }
 ],
 "metadata": {
  "kernelspec": {
   "display_name": "Python 2",
   "language": "python",
   "name": "python2"
  },
  "language_info": {
   "codemirror_mode": {
    "name": "ipython",
    "version": 2
   },
   "file_extension": ".py",
   "mimetype": "text/x-python",
   "name": "python",
   "nbconvert_exporter": "python",
   "pygments_lexer": "ipython2",
   "version": "2.7.10"
  }
 },
 "nbformat": 4,
 "nbformat_minor": 0
}
