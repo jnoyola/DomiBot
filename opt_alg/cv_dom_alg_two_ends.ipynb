{
 "cells": [
  {
   "cell_type": "code",
   "execution_count": 458,
   "metadata": {
    "collapsed": true
   },
   "outputs": [],
   "source": [
    "import numpy as np"
   ]
  },
  {
   "cell_type": "code",
   "execution_count": 459,
   "metadata": {
    "collapsed": true
   },
   "outputs": [],
   "source": [
    "cv_data = [[(3, (431, 197), 0.51914611424652302), (5, (386, 219), -2.7367008673047097)], [(4, (607, 173), 1.3986055122719576), (0, (595, 223), -1.7942729279355296)], [(0, (283, 178), 0.75837771421018374), (6, (246, 213), -2.4116929954380617)], [(6, (491, 146), 1.4909663410826592), (6, (487, 196), -1.7429871413178355)], [(4, (370, 153), -0.41012734054149091), (3, (324, 133), -3.5363837732895549)], [(2, (288, 90), 1.5707963267948966), (4, (286, 142), -1.6614562139956417)], [(6, (478, 110), -0.4461055489434036), (4, (432, 90), -3.5713549326864817)], [(3, (557, 60), 1.5707963267948966), (2, (553, 113), -1.6575346654708816)], [(2, (395, 88), -0.81396182123620819), (0, (362, 49), -3.9572845769060168)]]"
   ]
  },
  {
   "cell_type": "code",
   "execution_count": 479,
   "metadata": {
    "collapsed": false,
    "scrolled": true
   },
   "outputs": [
    {
     "name": "stderr",
     "output_type": "stream",
     "text": [
      "/Users/Karen/anaconda/lib/python2.7/site-packages/ipykernel/__main__.py:12: DeprecationWarning: using a non-integer number instead of an integer will result in an error in the future\n"
     ]
    },
    {
     "data": {
      "text/plain": [
       "array([[0, 0, 1, 0, 1, 0, 1],\n",
       "       [0, 0, 0, 0, 0, 0, 0],\n",
       "       [0, 0, 0, 1, 1, 0, 0],\n",
       "       [0, 0, 0, 0, 1, 1, 0],\n",
       "       [0, 0, 0, 0, 0, 0, 1],\n",
       "       [0, 0, 0, 0, 0, 0, 0],\n",
       "       [0, 0, 0, 0, 0, 0, 1]])"
      ]
     },
     "execution_count": 479,
     "metadata": {},
     "output_type": "execute_result"
    }
   ],
   "source": [
    "# constructing A\n",
    "n = 7;\n",
    "A = np.zeros((n,n));\n",
    "num_dominoes = len(cv_data);\n",
    "dom = np.zeros((num_dominoes,2));\n",
    "dom_sort = np.zeros((num_dominoes,2));\n",
    "dom_perm = np.zeros((num_dominoes,2));\n",
    "for i in range(0,num_dominoes):\n",
    "    dom[i,:] = cv_data[i][0][0],cv_data[i][1][0];\n",
    "    dom_sort[i,:] = sorted(dom[i,:]);\n",
    "    dom_perm[i,:] = np.argsort(dom[i,:]);\n",
    "    A[dom_sort[i,0],dom_sort[i,1]] = 1;\n",
    "    \n",
    "dom = dom.astype(int);\n",
    "dom_sort = dom_sort.astype(int);\n",
    "dom_perm = dom_perm.astype(int);\n",
    "A.astype(int)"
   ]
  },
  {
   "cell_type": "code",
   "execution_count": 480,
   "metadata": {
    "collapsed": false
   },
   "outputs": [],
   "source": [
    "def next_piece(A,end_train1,end_train2):\n",
    "    n = np.size(A,1);   # determine size of A\n",
    "    init_choice = A[:,end_train1] + np.transpose(A[end_train1,:]);  # Find playable pieces\n",
    "    if np.sum(init_choice) == 0:\n",
    "        V1 = 0;\n",
    "    else :\n",
    "        init_choice[end_train1] -= A[end_train1,end_train1];\n",
    "        m = np.max(init_choice);\n",
    "        poss_ind = np.where(init_choice);\n",
    "        poss_pick_up = (np.sum(np.transpose(A),1)) + np.sum(A,1) - np.asmatrix(np.diag(A));\n",
    "        V1 = np.max(poss_pick_up);\n",
    "        pick_up[0] = np.argmax(poss_pick_up);\n",
    "\n",
    "    n = np.size(A,1);   # determine size of A\n",
    "    init_choice = A[:,end_train2] + np.transpose(A[end_train2,:]);  # Find playable pieces\n",
    "    if np.sum(init_choice) == 0:\n",
    "        V2 = 0;\n",
    "    else :\n",
    "        init_choice[end_train2] -= A[end_train2,end_train2];\n",
    "        m = np.max(init_choice);\n",
    "        poss_ind = np.where(init_choice);\n",
    "        poss_pick_up = (np.sum(np.transpose(A),1)) + np.sum(A,1) - np.asmatrix(np.diag(A));\n",
    "        V2 = np.max(poss_pick_up);\n",
    "        pick_up[1] = np.argmax(poss_pick_up);\n",
    "\n",
    "\n",
    "    V_ends = [(V1, V2)];\n",
    "    which_end = np.argmax(V_ends);\n",
    "    choice = pick_up[which_end];\n",
    "    domino_choice = [end_train2,int(choice)];\n",
    "    \n",
    "    final = np.zeros(2)\n",
    "    final[0] = end_train2;\n",
    "    final[1] = int(choice);\n",
    "    final = final.astype(int);\n",
    "    return final, which_end"
   ]
  },
  {
   "cell_type": "code",
   "execution_count": 462,
   "metadata": {
    "collapsed": true
   },
   "outputs": [],
   "source": [
    "# [ [ (pips, (x, y), ori), (pips, (x, y), ori) ], # 1st\n",
    "# [ (pips, (x, y), ori), (pips, (x, y), ori) ], # 2nd]\n",
    "# orientation: angle the outward pointing vector makes\n",
    "# position: ends of the dominos\n",
    "# need: position of domino and desired orientation."
   ]
  },
  {
   "cell_type": "code",
   "execution_count": 489,
   "metadata": {
    "collapsed": false
   },
   "outputs": [
    {
     "name": "stdout",
     "output_type": "stream",
     "text": [
      "[0, 4]\n"
     ]
    },
    {
     "data": {
      "text/plain": [
       "array([[3, 5],\n",
       "       [0, 4],\n",
       "       [0, 6],\n",
       "       [6, 6],\n",
       "       [3, 4],\n",
       "       [2, 4],\n",
       "       [4, 6],\n",
       "       [2, 3],\n",
       "       [0, 2]])"
      ]
     },
     "execution_count": 489,
     "metadata": {},
     "output_type": "execute_result"
    }
   ],
   "source": [
    "end_train1 = 6;\n",
    "end_train2 = 0;\n",
    "piece_to_play,ind_end_to_play = next_piece(A,end_train1,end_train2);\n",
    "to_be_matched = sorted(piece_to_play);\n",
    "print(to_be_matched)\n",
    "end_to_play = piece_to_play[ind_end_to_play];\n",
    "dom_sort"
   ]
  },
  {
   "cell_type": "code",
   "execution_count": 490,
   "metadata": {
    "collapsed": false
   },
   "outputs": [
    {
     "name": "stdout",
     "output_type": "stream",
     "text": [
      "('Get the', 2, '-th domino from the list')\n"
     ]
    }
   ],
   "source": [
    "# finding which index the desired domino is in from the list\n",
    "p = to_be_matched == dom_sort\n",
    "for i in range(0,num_dominoes):\n",
    "    if p[i,0]==True & p[i,1] == True:\n",
    "        ind = i\n",
    "        \n",
    "print(\"Get the\",ind+1,\"-th domino from the list\")"
   ]
  },
  {
   "cell_type": "code",
   "execution_count": 491,
   "metadata": {
    "collapsed": false
   },
   "outputs": [
    {
     "data": {
      "text/plain": [
       "[(4, (607, 173), 1.3986055122719576), (0, (595, 223), -1.7942729279355296)]"
      ]
     },
     "execution_count": 491,
     "metadata": {},
     "output_type": "execute_result"
    }
   ],
   "source": [
    "cv_data[ind]"
   ]
  },
  {
   "cell_type": "code",
   "execution_count": 492,
   "metadata": {
    "collapsed": false
   },
   "outputs": [
    {
     "data": {
      "text/plain": [
       "1"
      ]
     },
     "execution_count": 492,
     "metadata": {},
     "output_type": "execute_result"
    }
   ],
   "source": [
    "order = dom_sort[ind,dom_perm[ind,:]];\n",
    "order\n",
    "if order[0] == end_to_play:\n",
    "    ind_contact_end = 0\n",
    "    ind_next_play_end = 1\n",
    "else:\n",
    "    ind_contact_end = 1\n",
    "    ind_next_play_end = 0\n",
    "ind_contact_end"
   ]
  },
  {
   "cell_type": "code",
   "execution_count": 493,
   "metadata": {
    "collapsed": false
   },
   "outputs": [],
   "source": [
    "pickup_desired_orientation = cv_data[ind][ind_next_play_end][2]\n",
    "x_desired = float(cv_data[ind][ind_next_play_end][1][0] + cv_data[ind][ind_contact_end][1][0])/2.0\n",
    "y_desired = float(cv_data[ind][ind_next_play_end][1][1] + cv_data[ind][ind_contact_end][1][1])/2.0\n",
    "pickup_desired_position = [x_desired, y_desired]\n",
    "\n"
   ]
  },
  {
   "cell_type": "code",
   "execution_count": 494,
   "metadata": {
    "collapsed": false
   },
   "outputs": [
    {
     "name": "stdout",
     "output_type": "stream",
     "text": [
      "(1.3986055122719576, [601.0, 198.0])\n"
     ]
    }
   ],
   "source": [
    "print(pickup_desired_orientation,pickup_desired_position)"
   ]
  },
  {
   "cell_type": "code",
   "execution_count": 495,
   "metadata": {
    "collapsed": false
   },
   "outputs": [
    {
     "data": {
      "text/plain": [
       "80.17483828310584"
      ]
     },
     "execution_count": 495,
     "metadata": {},
     "output_type": "execute_result"
    }
   ],
   "source": [
    "1.3986055122719576*180/3.14\n"
   ]
  },
  {
   "cell_type": "code",
   "execution_count": null,
   "metadata": {
    "collapsed": true
   },
   "outputs": [],
   "source": [
    "# desired drop off \n",
    "# position = position end + offset\n",
    "# orientation = orientation end"
   ]
  }
 ],
 "metadata": {
  "kernelspec": {
   "display_name": "Python 2",
   "language": "python",
   "name": "python2"
  },
  "language_info": {
   "codemirror_mode": {
    "name": "ipython",
    "version": 2
   },
   "file_extension": ".py",
   "mimetype": "text/x-python",
   "name": "python",
   "nbconvert_exporter": "python",
   "pygments_lexer": "ipython2",
   "version": "2.7.10"
  }
 },
 "nbformat": 4,
 "nbformat_minor": 0
}
